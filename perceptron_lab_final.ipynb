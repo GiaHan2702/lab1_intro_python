{
  "nbformat": 4,
  "nbformat_minor": 0,
  "metadata": {
    "colab": {
      "provenance": [],
      "authorship_tag": "ABX9TyOFbQsHrXmtx74zf/u1ZbmM",
      "include_colab_link": true
    },
    "kernelspec": {
      "name": "python3",
      "display_name": "Python 3"
    },
    "language_info": {
      "name": "python"
    }
  },
  "cells": [
    {
      "cell_type": "markdown",
      "metadata": {
        "id": "view-in-github",
        "colab_type": "text"
      },
      "source": [
        "<a href=\"https://colab.research.google.com/github/GiaHan2702/lab1_intro_python/blob/main/perceptron_lab_final.ipynb\" target=\"_parent\"><img src=\"https://colab.research.google.com/assets/colab-badge.svg\" alt=\"Open In Colab\"/></a>"
      ]
    },
    {
      "cell_type": "code",
      "execution_count": 50,
      "metadata": {
        "id": "uhxb3c6pJRyY"
      },
      "outputs": [],
      "source": [
        "import numpy as np\n",
        "import matplotlib.pyplot as plt"
      ]
    },
    {
      "cell_type": "code",
      "source": [
        "features = np.array([[2.38, 1.06],\n",
        "                    [2.5, 1.07],\n",
        "                    [2.29, 1.04],\n",
        "                    [1.98, 1.39],\n",
        "                    [1.73, 1.98],\n",
        "                    [1.28, 1.39],\n",
        "                    [0.92, 1.44],\n",
        "                    [1.78, 1.55]])\n",
        "labels= np.array([[0],\n",
        "                    [0],\n",
        "                    [0],\n",
        "                    [0],\n",
        "                    [1],\n",
        "                    [1],\n",
        "                    [1],\n",
        "                    [1]])\n",
        "print(features)\n",
        "print(labels)"
      ],
      "metadata": {
        "colab": {
          "base_uri": "https://localhost:8080/"
        },
        "id": "_GrjfNXfJWQ_",
        "outputId": "d2ecdf7d-f7de-4b9d-e2b5-cedb2159ee5a"
      },
      "execution_count": 51,
      "outputs": [
        {
          "output_type": "stream",
          "name": "stdout",
          "text": [
            "[[2.38 1.06]\n",
            " [2.5  1.07]\n",
            " [2.29 1.04]\n",
            " [1.98 1.39]\n",
            " [1.73 1.98]\n",
            " [1.28 1.39]\n",
            " [0.92 1.44]\n",
            " [1.78 1.55]]\n",
            "[[0]\n",
            " [0]\n",
            " [0]\n",
            " [0]\n",
            " [1]\n",
            " [1]\n",
            " [1]\n",
            " [1]]\n"
          ]
        }
      ]
    },
    {
      "cell_type": "code",
      "source": [
        "# define activation function sigmoid\n",
        "def sigmoid_func(x):\n",
        "  return 1/(1+np.exp(-x))\n",
        "\n",
        "# training simple perceptron function\n",
        "# parameters: learning rates, ....\n",
        "def train_perceptron(X_train, y_train, parameters) :\n",
        "\n",
        "  #read the numbers of samples and number of features \n",
        "  n_samples, n_feautures = X_train.shape\n",
        "\n",
        "  # init para (should be a random number)\n",
        "  w1 = 0.05\n",
        "  w2 = 0.04\n",
        "\n",
        "  #bias \n",
        "  b = 0\n",
        "\n",
        "  # define error\n",
        "  # loss function mean square error\n",
        "  MSE= []\n",
        "\n",
        "  learningrate= parameters['learning_rate']\n",
        "  n_iters= parameters['iteration']\n",
        "\n",
        "  #learning weight\n",
        "  for _ in range(n_iters):\n",
        "    MSE_temp = 0\n",
        "    for index, x_i in enumerate(X_train):\n",
        "      x1= x_i[0]\n",
        "      x2= x_i[1]\n",
        "      yd= y_train [index,0]\n",
        "\n",
        "      z= w1*x1 + w2*x2 + b\n",
        "      y= sigmoid_func(z)\n",
        "\n",
        "      # calculate derivative  of error/ w1\n",
        "      y_deri= y*(1-y)\n",
        "      dE_dw1= -2*(yd-y)*y_deri*x1\n",
        "      dE_dw2= -2*(yd-y)*y_deri*x2\n",
        "\n",
        "      w1= w1- learningrate*dE_dw1\n",
        "      w2= w2- learningrate*dE_dw2\n",
        "      #bias\n",
        "      b= b- learningrate*(-2*(yd-y)*y_deri)\n",
        "\n",
        "      #update z\n",
        "      z_new= w1*x1 + w2*x2 + b\n",
        "      y_new= sigmoid_func(z_new)\n",
        "      MSE_temp = MSE_temp + (yd-y)**2\n",
        "\n",
        "      # automatic adding to form an array\n",
        "    MSE.append(MSE_temp/n_iters)\n",
        "    # output: weight and bias\n",
        "  weights = np.array([w1, w2])\n",
        "  bias = b\n",
        "\n",
        "  model = {'weights_trained': weights,\n",
        "           'bias_trained': bias,\n",
        "           'loss': MSE}\n",
        "  return model\n",
        "\n",
        "#define a predict function\n",
        "def predict(model, X_test):\n",
        "  weights= model['weights_trained']\n",
        "  bias= model['bias_trained']\n",
        "  b = bias\n",
        "  w1= weights[0]\n",
        "  w2= weights[1]\n",
        "  # set a matrix\n",
        "  y_predicted=  np.zeros((len(X_test),1))\n",
        "  for index, x_i in enumerate(X_test):\n",
        "    x1 = x_i[0]\n",
        "    x2 = x_i[1]\n",
        "\n",
        "    z= w1*x1 + w2*x2 + b\n",
        "    y_predicted[index] = sigmoid_func(z)\n",
        "    # sigmoid is not step func =>\n",
        "\n",
        "    y_predicted[index] = np.where(y_predicted[index]>0.5,1, 0)\n",
        "    return y_predicted \n"
      ],
      "metadata": {
        "id": "bhGeiGrmJWU1"
      },
      "execution_count": 52,
      "outputs": []
    },
    {
      "cell_type": "code",
      "source": [
        "from sklearn.model_selection import train_test_split"
      ],
      "metadata": {
        "id": "t5G74t43JWZR"
      },
      "execution_count": 53,
      "outputs": []
    },
    {
      "cell_type": "code",
      "source": [
        "X_train, X_test, y_train, y_test = train_test_split(\n",
        "    features, labels, test_size= 0.2, random_state= 123\n",
        ")\n",
        "\n",
        "print(X_train)\n",
        "print(y_train)"
      ],
      "metadata": {
        "colab": {
          "base_uri": "https://localhost:8080/"
        },
        "id": "djqpFUGlJWdK",
        "outputId": "4abe953c-ad2e-4922-c702-0c55799d8b9c"
      },
      "execution_count": 54,
      "outputs": [
        {
          "output_type": "stream",
          "name": "stdout",
          "text": [
            "[[1.98 1.39]\n",
            " [1.78 1.55]\n",
            " [1.73 1.98]\n",
            " [2.29 1.04]\n",
            " [1.28 1.39]\n",
            " [0.92 1.44]]\n",
            "[[0]\n",
            " [1]\n",
            " [1]\n",
            " [0]\n",
            " [1]\n",
            " [1]]\n"
          ]
        }
      ]
    },
    {
      "cell_type": "code",
      "source": [
        "# set para\n",
        "parameters= {'learning_rate':0.01,\n",
        "             'iteration': 40000}\n",
        "model= train_perceptron(X_train, y_train, parameters)"
      ],
      "metadata": {
        "id": "BvJr8g0GJWhd"
      },
      "execution_count": 55,
      "outputs": []
    },
    {
      "cell_type": "code",
      "source": [
        "# plot\n",
        "plt.title(\"Training Loss\")\n",
        "plt.plot(model['loss'], label= 'Train')\n",
        "plt.xlabel('iteration')\n",
        "plt.ylabel('loss')"
      ],
      "metadata": {
        "colab": {
          "base_uri": "https://localhost:8080/",
          "height": 312
        },
        "id": "EBPau-NIJWk3",
        "outputId": "ca8c7e73-aec8-44f2-a519-a30f0303c79d"
      },
      "execution_count": 56,
      "outputs": [
        {
          "output_type": "execute_result",
          "data": {
            "text/plain": [
              "Text(0, 0.5, 'loss')"
            ]
          },
          "metadata": {},
          "execution_count": 56
        },
        {
          "output_type": "display_data",
          "data": {
            "text/plain": [
              "<Figure size 432x288 with 1 Axes>"
            ],
            "image/png": "[encoded data removed]"
          },
          "metadata": {
            "needs_background": "light"
          }
        }
      ]
    },
    {
      "cell_type": "code",
      "source": [
        "# \n",
        "y_pred = predict(model, X_test)\n",
        "print('Predicted labels by model')\n",
        "print(y_pred)\n",
        "print('True labels')\n",
        "print(y_test)"
      ],
      "metadata": {
        "colab": {
          "base_uri": "https://localhost:8080/"
        },
        "id": "3gENdUAIJWno",
        "outputId": "f46e1ec2-952e-4a10-c918-dc9bbd52c887"
      },
      "execution_count": 58,
      "outputs": [
        {
          "output_type": "stream",
          "name": "stdout",
          "text": [
            "Predicted labels by model\n",
            "[[0.]\n",
            " [0.]]\n",
            "True labels\n",
            "[[0]\n",
            " [0]]\n"
          ]
        }
      ]
    },
    {
      "cell_type": "code",
      "source": [],
      "metadata": {
        "id": "DRKRDZoCJWp4"
      },
      "execution_count": 57,
      "outputs": []
    },
    {
      "cell_type": "code",
      "source": [],
      "metadata": {
        "id": "1VBkQ7PjJWt0"
      },
      "execution_count": 57,
      "outputs": []
    },
    {
      "cell_type": "code",
      "source": [],
      "metadata": {
        "id": "XHlDwQlWJWw2"
      },
      "execution_count": 57,
      "outputs": []
    },
    {
      "cell_type": "code",
      "source": [],
      "metadata": {
        "id": "FL_9Gtg4JWzL"
      },
      "execution_count": 57,
      "outputs": []
    },
    {
      "cell_type": "code",
      "source": [],
      "metadata": {
        "id": "bIHFpELNJW1w"
      },
      "execution_count": 57,
      "outputs": []
    }
  ]
}