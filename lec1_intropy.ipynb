{
  "nbformat": 4,
  "nbformat_minor": 0,
  "metadata": {
    "colab": {
      "provenance": [],
      "authorship_tag": "ABX9TyPT/jEl15rbVZfkQiEQdB3W",
      "include_colab_link": true
    },
    "kernelspec": {
      "name": "python3",
      "display_name": "Python 3"
    },
    "language_info": {
      "name": "python"
    }
  },
  "cells": [
    {
      "cell_type": "markdown",
      "metadata": {
        "id": "view-in-github",
        "colab_type": "text"
      },
      "source": [
        "<a href=\"https://colab.research.google.com/github/GiaHan2702/lab1_intro_python/blob/main/lec1_intropy.ipynb\" target=\"_parent\"><img src=\"https://colab.research.google.com/assets/colab-badge.svg\" alt=\"Open In Colab\"/></a>"
      ]
    },
    {
      "cell_type": "code",
      "source": [
        "name= \"Han\"\n",
        "age=20\n",
        "gender=\"female\""
      ],
      "metadata": {
        "id": "LU4RJ9z8QEcH"
      },
      "execution_count": null,
      "outputs": []
    },
    {
      "cell_type": "code",
      "source": [
        "x = 5\n",
        "print(type(x))"
      ],
      "metadata": {
        "colab": {
          "base_uri": "https://localhost:8080/"
        },
        "id": "RrNmHYTxQybE",
        "outputId": "0020c9b5-363f-40dc-9698-06e4cc55802f"
      },
      "execution_count": null,
      "outputs": [
        {
          "output_type": "stream",
          "name": "stdout",
          "text": [
            "<class 'int'>\n"
          ]
        }
      ]
    },
    {
      "cell_type": "code",
      "source": [
        "username = input(\"Enter my name:\")\n",
        "print(\"my name is: \" + username)"
      ],
      "metadata": {
        "colab": {
          "base_uri": "https://localhost:8080/"
        },
        "id": "-BjNRJABQ9hM",
        "outputId": "2349b6e1-1a6c-40a5-b66a-2c5d0ad03558"
      },
      "execution_count": null,
      "outputs": [
        {
          "output_type": "stream",
          "name": "stdout",
          "text": [
            "Enter my name:han\n",
            "my name is: han\n"
          ]
        }
      ]
    },
    {
      "cell_type": "code",
      "source": [
        "def convertc(c):\n",
        "    return 32+9*float(c)/5\n",
        "def convertf(f):\n",
        "  return float((5/9)*(f-32))\n",
        "\n",
        "print(\"from 0c to 9c, the f converted is:\")\n",
        "for i in range (0,10,1):\n",
        "  print('ans of f is',convertc(i))\n",
        "print(\"from 32f to 39 f, the c is\")\n",
        "for i in range (32,40,1):\n",
        "  print('ans is',convertf(i))"
      ],
      "metadata": {
        "colab": {
          "base_uri": "https://localhost:8080/"
        },
        "id": "0DL1g1H8ReJP",
        "outputId": "1eec4ce9-4ade-42b2-8852-5a0a344b073e"
      },
      "execution_count": null,
      "outputs": [
        {
          "output_type": "stream",
          "name": "stdout",
          "text": [
            "from 0c to 9c, the f converted is:\n",
            "ans of f is 32.0\n",
            "ans of f is 33.8\n",
            "ans of f is 35.6\n",
            "ans of f is 37.4\n",
            "ans of f is 39.2\n",
            "ans of f is 41.0\n",
            "ans of f is 42.8\n",
            "ans of f is 44.6\n",
            "ans of f is 46.4\n",
            "ans of f is 48.2\n",
            "from 32f to 39 f, the c is\n",
            "ans is 0.0\n",
            "ans is 0.5555555555555556\n",
            "ans is 1.1111111111111112\n",
            "ans is 1.6666666666666667\n",
            "ans is 2.2222222222222223\n",
            "ans is 2.7777777777777777\n",
            "ans is 3.3333333333333335\n",
            "ans is 3.8888888888888893\n"
          ]
        }
      ]
    },
    {
      "cell_type": "code",
      "source": [
        "def rect_area(height, width):\n",
        "  area=height*width\n",
        "  return area\n",
        "\n",
        "height=int(input(\"h:\"))\n",
        "width=int(input(\"c:\"))\n",
        "print('area is',rect_area(height,width))"
      ],
      "metadata": {
        "id": "u4LM1YGoTavX",
        "colab": {
          "base_uri": "https://localhost:8080/"
        },
        "outputId": "b93d5f5d-d084-41fd-c8ec-bd7b67693548"
      },
      "execution_count": null,
      "outputs": [
        {
          "output_type": "stream",
          "name": "stdout",
          "text": [
            "h:12\n",
            "c:2\n",
            "area is 24\n"
          ]
        }
      ]
    },
    {
      "cell_type": "code",
      "source": [],
      "metadata": {
        "id": "rcNFLNxmUzfG"
      },
      "execution_count": null,
      "outputs": []
    },
    {
      "cell_type": "code",
      "source": [
        "def RELU_func(x):\n",
        "  if x>=0:\n",
        "    return x\n",
        "  else:\n",
        "    return 0\n",
        "x=float(input(\"x:\"))\n",
        "print('ans is',RELU_func(x))"
      ],
      "metadata": {
        "colab": {
          "base_uri": "https://localhost:8080/"
        },
        "id": "ZZQCagh3UziY",
        "outputId": "17d3b831-22c6-461a-95d8-66b398ee360d"
      },
      "execution_count": null,
      "outputs": [
        {
          "output_type": "stream",
          "name": "stdout",
          "text": [
            "x:2\n",
            "ans is 2.0\n"
          ]
        }
      ]
    },
    {
      "cell_type": "code",
      "source": [
        "sala=float(input(\"enter your salary:\"))\n",
        "year=float(input(\"enter your working year:\"))\n",
        "if year > 5 :\n",
        "  bonus=float(0.05*(sala))\n",
        "elif year > 3:\n",
        "  bonus=float(0.03*(sala))\n",
        "else:\n",
        "  bonus=0\n",
        "print('bonus is ',bonus)"
      ],
      "metadata": {
        "colab": {
          "base_uri": "https://localhost:8080/"
        },
        "id": "BiQ2Cv2cVamo",
        "outputId": "0367ebb9-a89e-4b3f-b818-cb8a1b5b6879"
      },
      "execution_count": null,
      "outputs": [
        {
          "output_type": "stream",
          "name": "stdout",
          "text": [
            "enter your salary:20000\n",
            "enter your working year:4\n",
            "bonus is  600.0\n"
          ]
        }
      ]
    },
    {
      "cell_type": "markdown",
      "source": [
        "// bonus 3% if s>3years; 5% for >5years. input salary+ year, print bonus"
      ],
      "metadata": {
        "id": "ieLF456OVkDJ"
      }
    },
    {
      "cell_type": "code",
      "source": [
        "fruits = [\"apple\", \"banana\", \"cherry\"]\n",
        "for x in fruits:\n",
        "  print(x)\n",
        "  if x == \"banana\":\n",
        "    break"
      ],
      "metadata": {
        "colab": {
          "base_uri": "https://localhost:8080/"
        },
        "id": "bYMUJ-r9YyTE",
        "outputId": "7ff6cbbd-b47b-4e63-8599-70574a2f74bc"
      },
      "execution_count": null,
      "outputs": [
        {
          "output_type": "stream",
          "name": "stdout",
          "text": [
            "apple\n",
            "banana\n"
          ]
        }
      ]
    },
    {
      "cell_type": "code",
      "source": [
        "for x in range(10):\n",
        "  if x==6:\n",
        "    break\n",
        "print(x)"
      ],
      "metadata": {
        "colab": {
          "base_uri": "https://localhost:8080/"
        },
        "id": "H4i67CgzYz2w",
        "outputId": "a0839b97-41cb-4b89-8309-86ddce4819de"
      },
      "execution_count": null,
      "outputs": [
        {
          "output_type": "stream",
          "name": "stdout",
          "text": [
            "6\n"
          ]
        }
      ]
    },
    {
      "cell_type": "code",
      "source": [
        "import random\n",
        "\n",
        "total_flip=0\n",
        "head=0\n",
        "tail=0\n",
        "\n",
        "for _ in range (100):\n",
        "  n=random.random()\n",
        "  print(n)\n",
        "  if n<0.5:\n",
        "      tail= tail+1\n",
        "  else:\n",
        "      head=head+1\n",
        "  total_flip+=1\n",
        "print('tail is',tail)\n",
        "print('head is',head)\n",
        "print('flip is',total_flip)"
      ],
      "metadata": {
        "colab": {
          "base_uri": "https://localhost:8080/"
        },
        "id": "hMuwKAeyZsIr",
        "outputId": "269eb291-db3f-4494-a80c-0dab3aebd3f3"
      },
      "execution_count": null,
      "outputs": [
        {
          "output_type": "stream",
          "name": "stdout",
          "text": [
            "0.3638509035027674\n",
            "0.26255875159382225\n",
            "0.22839150229562954\n",
            "0.6480301866967098\n",
            "0.7167446272229633\n",
            "0.7419063145271233\n",
            "0.3198109371854817\n",
            "0.9924150498029946\n",
            "0.8021333517203937\n",
            "0.06484928404908707\n",
            "0.6135808060624164\n",
            "0.7381720897380787\n",
            "0.8185496642993422\n",
            "0.7531375480466674\n",
            "0.14903238715192335\n",
            "0.03499294828399435\n",
            "0.11363017400645914\n",
            "0.9006558548441173\n",
            "0.6102602732933552\n",
            "0.45017487733032424\n",
            "0.5159780970864195\n",
            "0.13700769306413052\n",
            "0.49111121139213076\n",
            "0.5282677996830067\n",
            "0.5253348699913873\n",
            "0.376923597041549\n",
            "0.7363844868119609\n",
            "0.6009244268564329\n",
            "0.27583189783237916\n",
            "0.015852540713528485\n",
            "0.04737033250123113\n",
            "0.9139269797144799\n",
            "0.3438446182665552\n",
            "0.812731106548152\n",
            "0.6911817982640709\n",
            "0.3279775335610088\n",
            "0.5019739825922579\n",
            "0.20660371559494517\n",
            "0.9274110131372117\n",
            "0.2417258025870782\n",
            "0.23714005019681772\n",
            "0.31570153415673863\n",
            "0.2918314911599833\n",
            "0.5904638165317748\n",
            "0.11395141671455944\n",
            "0.08208207624482544\n",
            "0.15839495719386987\n",
            "0.3955011590832649\n",
            "0.3283720083115734\n",
            "0.36386977738175796\n",
            "0.4291421949492099\n",
            "0.6123333857871494\n",
            "0.2150839471042234\n",
            "0.677298360435225\n",
            "0.5687458762567699\n",
            "0.8825807676028662\n",
            "0.5088429898508088\n",
            "0.14651569769046813\n",
            "0.4577729633271783\n",
            "0.25108792790951706\n",
            "0.9816570011853082\n",
            "0.9010533774939006\n",
            "0.6317510164250061\n",
            "0.8769831526664477\n",
            "0.7969937652560021\n",
            "0.33098370356852014\n",
            "0.6176882236981248\n",
            "0.09662469592625689\n",
            "0.8612247944435774\n",
            "0.5413200114222877\n",
            "0.5098022053523142\n",
            "0.1535623233935035\n",
            "0.2646121026534016\n",
            "0.9720510970767139\n",
            "0.9937311849518142\n",
            "0.45190820782104524\n",
            "0.44343638235575766\n",
            "0.6668670124035471\n",
            "0.9888094057761392\n",
            "0.6525305938929611\n",
            "0.49620515311675806\n",
            "0.2910075725997746\n",
            "0.5085767568517985\n",
            "0.5564847188519824\n",
            "0.17369622459741463\n",
            "0.3778018364527925\n",
            "0.7298356309099255\n",
            "0.12810636533872233\n",
            "0.5482909095788613\n",
            "0.9649870424272865\n",
            "0.6232792037881444\n",
            "0.12868786519872766\n",
            "0.30702225974176134\n",
            "0.4138503821628895\n",
            "0.189812733811494\n",
            "0.07280520791840173\n",
            "0.8141094607499058\n",
            "0.4362990551315874\n",
            "0.3331821218674982\n",
            "0.2605222587072027\n",
            "tail is 52\n",
            "head is 48\n",
            "flip is 100\n"
          ]
        }
      ]
    },
    {
      "cell_type": "markdown",
      "source": [
        "coin: count: flip 100 times"
      ],
      "metadata": {
        "id": "8z0FMDFgbJnI"
      }
    },
    {
      "cell_type": "code",
      "source": [
        "def fact(n):\n",
        "  if n==1 or n==0:\n",
        "    return 1\n",
        "  else:\n",
        "    return 1/(n* fact(n-1))\n",
        "\n",
        "def sum(n):\n",
        "  if n==1 or n==0:\n",
        "    return 1\n",
        "  else:\n",
        "    return sum(fact(n-1)) + fact(n)\n",
        "\n",
        "n=int(input(\"enter n:\"))\n",
        "print(\"ans is\",sum(n))\n",
        "\n"
      ],
      "metadata": {
        "colab": {
          "base_uri": "https://localhost:8080/"
        },
        "id": "wa96mrilatzD",
        "outputId": "2a2a936f-91da-40cf-963e-a23e4468eb15"
      },
      "execution_count": null,
      "outputs": [
        {
          "output_type": "stream",
          "name": "stdout",
          "text": [
            "enter n:2\n",
            "ans is 1.5\n"
          ]
        }
      ]
    },
    {
      "cell_type": "markdown",
      "source": [
        "euler's number. input n => output: series \n",
        "sum(1/n!)\n"
      ],
      "metadata": {
        "id": "01fh9fwwav_X"
      }
    },
    {
      "cell_type": "code",
      "source": [
        "i = 1\n",
        "while i < 6:\n",
        "  print('i is',i)\n",
        "  i+=1"
      ],
      "metadata": {
        "colab": {
          "base_uri": "https://localhost:8080/"
        },
        "id": "GqnnlEy8fJ_i",
        "outputId": "ddcd3fea-2bde-4949-96a1-717e3a96f609"
      },
      "execution_count": null,
      "outputs": [
        {
          "output_type": "stream",
          "name": "stdout",
          "text": [
            "i is 1\n",
            "i is 2\n",
            "i is 3\n",
            "i is 4\n",
            "i is 5\n"
          ]
        }
      ]
    },
    {
      "cell_type": "code",
      "source": [
        "n=int(input(\"enter n:\"))\n",
        "reverse_num=0\n",
        "while (n!=0):\n",
        "  digit= n%10\n",
        "  reverse_num= reverse_num*10 + digit\n",
        "  n//=10\n",
        "print(\"Reversed Number: \" + str(reverse_num))\n"
      ],
      "metadata": {
        "id": "Npt7510ofYYv",
        "colab": {
          "base_uri": "https://localhost:8080/"
        },
        "outputId": "47fdc17f-e58e-441b-8736-187d205e313e"
      },
      "execution_count": null,
      "outputs": [
        {
          "output_type": "stream",
          "name": "stdout",
          "text": [
            "enter n:12345\n",
            "Reversed Number: 54321\n"
          ]
        }
      ]
    },
    {
      "cell_type": "markdown",
      "source": [
        "reverse: 54321\n",
        "=> 12345"
      ],
      "metadata": {
        "id": "wDJEMWBXf3Bs"
      }
    },
    {
      "cell_type": "code",
      "source": [
        "import numpy as np\n",
        "from numpy import vstack\n",
        "array1=([1,2,3])\n",
        "array2=([4,5,6])\n",
        "a3=vstack((array1,array2))\n",
        "print(array1)\n",
        "print(array2)\n",
        "print(a3)\n",
        "print(a3.shape)\n",
        "data3=np.array([1.1, 2.2, 3.3])\n",
        "print('print datatype of data3:',data3.dtype)\n",
        "a4=np.concatenate((array1,array2),axis=0)\n",
        "print('connect horizontal',a4)\n",
        "matrix1= np.array([[7,8,9],[3,2,1]])\n",
        "mean=np.mean(matrix1)\n",
        "print('mean is',mean)\n",
        "\n",
        "\n",
        "print(\"each element of matrix 1\")\n",
        "for i in matrix1:\n",
        "  for j in i:\n",
        "    print(j)\n",
        "\n",
        "print(\"element in row:\")\n",
        "for i in matrix1:\n",
        "  print(i)"
      ],
      "metadata": {
        "colab": {
          "base_uri": "https://localhost:8080/"
        },
        "id": "paf-3dTTf7G4",
        "outputId": "18dd71b2-5f29-4468-b2db-1dc90e9c6349"
      },
      "execution_count": null,
      "outputs": [
        {
          "output_type": "stream",
          "name": "stdout",
          "text": [
            "[1, 2, 3]\n",
            "[4, 5, 6]\n",
            "[[1 2 3]\n",
            " [4 5 6]]\n",
            "(2, 3)\n",
            "print datatype of data3: float64\n",
            "connect horizontal [1 2 3 4 5 6]\n",
            "mean is 5.0\n",
            "each element of matrix 1\n",
            "7\n",
            "8\n",
            "9\n",
            "3\n",
            "2\n",
            "1\n",
            "element in row:\n",
            "[7 8 9]\n",
            "[3 2 1]\n"
          ]
        }
      ]
    },
    {
      "cell_type": "code",
      "source": [
        "!ls \"/content/drive/My Drive\""
      ],
      "metadata": {
        "id": "_oElEXqxBLqp",
        "colab": {
          "base_uri": "https://localhost:8080/"
        },
        "outputId": "b509a703-f7bd-4a27-bd08-5d8cde79f63b"
      },
      "execution_count": null,
      "outputs": [
        {
          "output_type": "stream",
          "name": "stdout",
          "text": [
            "ls: cannot access '/content/drive/My Drive': No such file or directory\n"
          ]
        }
      ]
    },
    {
      "cell_type": "markdown",
      "source": [
        "numpy"
      ],
      "metadata": {
        "id": "XfS9nq73f8rK"
      }
    },
    {
      "cell_type": "markdown",
      "source": [
        "matplotlib in library:\n"
      ],
      "metadata": {
        "id": "1wGZbo68k71I"
      }
    },
    {
      "cell_type": "code",
      "source": [
        "import matplotlib.pyplot as plt\n",
        "import numpy as np\n",
        "\n",
        "xpoints = np.array([1, 2, 6, 8])\n",
        "ypoints = np.array([3, 8, 1, 10])\n",
        "\n",
        "plt.plot(xpoints, ypoints)\n",
        "plt.show()"
      ],
      "metadata": {
        "colab": {
          "base_uri": "https://localhost:8080/",
          "height": 265
        },
        "id": "nqoEdsumlcU2",
        "outputId": "b606654e-af2c-4631-fcdb-58b310723f09"
      },
      "execution_count": null,
      "outputs": [
        {
          "output_type": "display_data",
          "data": {
            "text/plain": [
              "<Figure size 432x288 with 1 Axes>"
            ],
            "image/png": "[encoded data removed]"
          },
          "metadata": {
            "needs_background": "light"
          }
        }
      ]
    },
    {
      "cell_type": "markdown",
      "source": [
        "statistic: mean_correlation_image"
      ],
      "metadata": {
        "id": "4hWe9V_QmDLM"
      }
    },
    {
      "cell_type": "code",
      "source": [
        "import numpy as np\n",
        "import cv2\n",
        "#allow access to google drive\n",
        "from google.colab.patches import cv2_imshow\n",
        "from google.colab import drive\n",
        "drive.mount('/content/drive/')\n",
        "#load image\n",
        "\n",
        "image_path='/content/drive/MyDrive/Colab Notebooks/trump.jpg'\n",
        "image= cv2.imread(image_path,0) \n",
        "image1= cv2.imread(image_path,0) \n",
        "#create kernel\n",
        "kernel= np.ones((5,5),np.float32)/25.0\n",
        "\n",
        "#compute mean for each pixel\n",
        "image_fil= cv2.filter2D(image, cv2.CV_8U,kernel)\n",
        "\n",
        "#select ROI\n",
        "roi=image[175:285, 400:555]\n",
        "\n",
        "#compute mean for each pixel\n",
        "roi=cv2.filter2D(roi,cv2.CV_8U,kernel)\n",
        "\n",
        "#apply meadian filter\n",
        "image2=cv2.medianBlur(image1,3)\n",
        "\n",
        "#display by colab\n",
        "print(\"original:\")\n",
        "cv2_imshow(image)\n",
        "print(\"\\nfilter:\")\n",
        "cv2_imshow(image_fil)\n",
        "print(\"face\")\n",
        "cv2_imshow(roi)\n",
        "print(\"noise\")\n",
        "cv2_imshow(image2)"
      ],
      "metadata": {
        "id": "j3JPdjrgmG24"
      },
      "execution_count": null,
      "outputs": []
    },
    {
      "cell_type": "markdown",
      "source": [
        "correlation coeff"
      ],
      "metadata": {
        "id": "CMuhW7fMvsOI"
      }
    }
  ]
}